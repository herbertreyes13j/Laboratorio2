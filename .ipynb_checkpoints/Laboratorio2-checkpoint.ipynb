{
 "cells": [
  {
   "cell_type": "markdown",
   "id": "ce7cdcd5",
   "metadata": {},
   "source": [
    "## Herbert Rafael Reyes Portillo\n",
    "## Carnet: 23002116\n",
    "\n",
    "# Laboratorio 2\n",
    "\n"
   ]
  }
 ],
 "metadata": {
  "kernelspec": {
   "display_name": "Python 3 (ipykernel)",
   "language": "python",
   "name": "python3"
  },
  "language_info": {
   "codemirror_mode": {
    "name": "ipython",
    "version": 3
   },
   "file_extension": ".py",
   "mimetype": "text/x-python",
   "name": "python",
   "nbconvert_exporter": "python",
   "pygments_lexer": "ipython3",
   "version": "3.7.16"
  }
 },
 "nbformat": 4,
 "nbformat_minor": 5
}
