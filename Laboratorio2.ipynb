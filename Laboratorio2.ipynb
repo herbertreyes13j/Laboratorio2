{
 "cells": [
  {
   "cell_type": "markdown",
   "id": "ce7cdcd5",
   "metadata": {},
   "source": [
    "#### Herbert Rafael Reyes Portillo\n",
    "#### Carnet: 23002116\n",
    "\n",
    "# Laboratorio 2\n",
    "\n"
   ]
  },
  {
   "cell_type": "markdown",
   "id": "7eb40628",
   "metadata": {},
   "source": [
    "## Parte 1\n",
    "\n",
    "### Problema 1\n",
    "\n",
    "Haga un programa en Python que reciba de par´ametro un nu´mero de segundos y que despliegue en pantalla, las horas, minutos y segundos que representan. Por ejemplo:\n",
    "- Si el nu´mero de segundos recibidos fuera: 2743 entonces su programa deber´ıa desplegar: Horas: 0, Minutos: 45 , Segundos: 43\n",
    "- Si el numero de segundos recibidos fuera 5871: Horas: 1, Minutos: 37 , Segundos: 51\n",
    "\n",
    "Recuerde manejar excepciones y errores que considere necesarios.\n",
    "\n"
   ]
  },
  {
   "cell_type": "code",
   "execution_count": 1,
   "id": "fa1b5c42",
   "metadata": {},
   "outputs": [
    {
     "name": "stdout",
     "output_type": "stream",
     "text": [
      "Horas: 248, Minutos: 35, Segundos: 49\n"
     ]
    }
   ],
   "source": [
    "def convertir_segundos(tiempo):\n",
    "    try:\n",
    "        if tiempo < 0:\n",
    "            raise ValueError(\"ERROR: El tiempo debe ser positivo\")\n",
    "        \n",
    "        horas = tiempo//3600\n",
    "        minutos = (tiempo % 3600)//60\n",
    "        segundos = tiempo % 60\n",
    "\n",
    "        print(\"Horas: {}, Minutos: {}, Segundos: {}\".format(horas,minutos,segundos))\n",
    "    except ValueError as error:\n",
    "        print(error)\n",
    "\n",
    "convertir_segundos(894949)"
   ]
  },
  {
   "cell_type": "markdown",
   "id": "456fc7ad",
   "metadata": {},
   "source": [
    "### Problema 2\n",
    "\n",
    "Haga una funcion en Python que dado un numero entre 1 y 20. Y un caracter cualquiera\n",
    "despliegue cuatro patrones triangulares.\n",
    "\n",
    "\n"
   ]
  },
  {
   "cell_type": "code",
   "execution_count": 33,
   "id": "4ebb33d8",
   "metadata": {},
   "outputs": [
    {
     "name": "stdout",
     "output_type": "stream",
     "text": [
      "k \n",
      "k k \n",
      "k k k \n",
      "k k k k \n",
      "k k k k k \n",
      "\n",
      "k k k k k \n",
      "  k k k k \n",
      "    k k k \n",
      "      k k \n",
      "        k \n",
      "\n",
      "k k k k k \n",
      "k k k k \n",
      "k k k \n",
      "k k \n",
      "k \n",
      "          k \n",
      "        k k \n",
      "      k k k \n",
      "    k k k k \n",
      "  k k k k k \n"
     ]
    }
   ],
   "source": [
    "def imprimir_patrones(num, caracter):\n",
    "    try:\n",
    "        if num < 1 or num > 20:\n",
    "            raise ValueError(\"ERROR: El valor debe estar entre 1 y 20\")\n",
    "        \n",
    "        for i in range(num):\n",
    "            print((caracter+' ') * (i + 1))\n",
    "\n",
    "        print()\n",
    "        j=0\n",
    "        for i in range(num, 0, -1):\n",
    "            print(('  ')*(j) + (caracter+' ') * (i))\n",
    "            j=j+1\n",
    "        \n",
    "        print()\n",
    "\n",
    "        for i in range(num, 0, -1):\n",
    "            print((caracter+' ') * (i))\n",
    "\n",
    "        j=num\n",
    "        for i in range(num):\n",
    "            print(('  ')*(j) + (caracter+' ') *(i + 1))\n",
    "            j=j-1\n",
    "\n",
    "        \n",
    "\n",
    "\n",
    "\n",
    "    except ValueError as error:\n",
    "        print(error)\n",
    "\n",
    "        \n",
    "imprimir_patrones(5,\"k\")"
   ]
  },
  {
   "cell_type": "markdown",
   "id": "69eaf441",
   "metadata": {},
   "source": [
    "### Problema 3\n",
    "\n",
    "Haga un programa en Python que la fecha de nacimiento de una persona (puede ingresar por\n",
    "separado cada valor, es decir pedir primero d´ıa, luego mes y luego año), despliegue la edad\n",
    "de la persona en años, meses y dias. Su resultado puede ser aproximado."
   ]
  },
  {
   "cell_type": "code",
   "execution_count": 6,
   "id": "1dab3961",
   "metadata": {},
   "outputs": [
    {
     "name": "stdout",
     "output_type": "stream",
     "text": [
      "Años: 25, Meses: 3, Dias: 1\n"
     ]
    }
   ],
   "source": [
    "from datetime import date\n",
    "from dateutil.relativedelta import relativedelta\n",
    "dia = int(input(\"Ingresa el dia de nacimiento (dd)\"))\n",
    "mes = int(input(\"Ingresa el mes de nacimiento (mm)\"))\n",
    "año = int(input(\"Ingresa el año de nacimiento (yyyy)\"))\n",
    "\n",
    "hoy = date.today()\n",
    "fecha_nac= date(año,mes,dia)\n",
    "\n",
    "diferencia = relativedelta(hoy,fecha_nac)\n",
    "\n",
    "print(\"Años: {}, Meses: {}, Dias: {}\".format(diferencia.years,diferencia.months,diferencia.days))\n"
   ]
  },
  {
   "cell_type": "markdown",
   "id": "4447dd26",
   "metadata": {},
   "source": [
    "### Problema 4\n",
    "\n",
    "Escriba una funcion en Python que dada una tupla de elementos (numeros o letras) esta se\n",
    "convierta a un string. Tomar nota del siguiente ejemplo:\n",
    "- Si la entrada fuera: (10, 20, 40, 5, 70)\n",
    "- La salida deberia ser: 102040570"
   ]
  },
  {
   "cell_type": "code",
   "execution_count": 8,
   "id": "4fcca082",
   "metadata": {},
   "outputs": [
    {
     "data": {
      "text/plain": [
       "'102040570'"
      ]
     },
     "execution_count": 8,
     "metadata": {},
     "output_type": "execute_result"
    }
   ],
   "source": [
    "def tupla_to_string(tupla):\n",
    "    texto = \"\".join(str(elemento) for elemento in tupla)\n",
    "    return texto\n",
    "\n",
    "tupla= (10,20,40,5,70)\n",
    "\n",
    "tupla_to_string(tupla)"
   ]
  },
  {
   "cell_type": "markdown",
   "id": "2d8c10a2",
   "metadata": {},
   "source": [
    "### Problema 5\n",
    "\n",
    "Cree un programa en Python que dada una lista de tuplas, elimine las tuplas que est´an vac´ıas.\n",
    "Tomar nota del siguiente ejemplo:\n",
    "- Si la lista fuera: [(), (), (’X’,), (’a’, ’b’), (’a’, ’b’, ’c’), (’d’)]\n",
    "- El resultado deber´ıa ser: [(’X’), (’a’, ’b’), (’a’, ’b’, ’c’), ’d’]\n"
   ]
  },
  {
   "cell_type": "code",
   "execution_count": 9,
   "id": "5aded63e",
   "metadata": {},
   "outputs": [
    {
     "name": "stdout",
     "output_type": "stream",
     "text": [
      "[('X',), ('a', 'b'), ('a', 'b', 'c'), 'd']\n"
     ]
    }
   ],
   "source": [
    "tupla = [(), (), ('X',), ('a', 'b'), ('a', 'b', 'c'), ('d')]\n",
    "\n",
    "def eliminar_vacios(tuplas):\n",
    "    tupla_limpia =[]\n",
    "    for tupla in tuplas:\n",
    "        if len(tupla)>0:\n",
    "            tupla_limpia.append(tupla)\n",
    "    return tupla_limpia\n",
    "\n",
    "print(eliminar_vacios(tupla))\n",
    "\n"
   ]
  },
  {
   "cell_type": "markdown",
   "id": "9bb4f628",
   "metadata": {},
   "source": [
    "### Problema 6\n",
    "\n",
    "Cree una funcion en Python que dada una tupla de tuplas con numeros, produzca una tupla\n",
    "con el promedio de cada tupla individual. Tomar nota del siguiente ejemplo:\n",
    "- Si la tupla de entrada fuera: ((10, 10, 10, 12), (30, 45, 56, 45), (81, 80, 39, 32))\n",
    "- El resultado deber´ıa ser: (10.5, 44, 58)"
   ]
  },
  {
   "cell_type": "code",
   "execution_count": 10,
   "id": "2b964297",
   "metadata": {},
   "outputs": [
    {
     "name": "stdout",
     "output_type": "stream",
     "text": [
      "[10.5, 44.0, 58.0]\n"
     ]
    }
   ],
   "source": [
    "tupla= ((10, 10, 10, 12), (30, 45, 56, 45), (81, 80, 39, 32))\n",
    "\n",
    "def promedios(tuplas):\n",
    "    resultado =[]\n",
    "    for tupla in tuplas:\n",
    "        resultado.append(sum(tupla)/len(tupla))\n",
    "    return resultado\n",
    "\n",
    "print(promedios(tupla))"
   ]
  },
  {
   "cell_type": "markdown",
   "id": "de3f270a",
   "metadata": {},
   "source": [
    "### Problema 7\n",
    "\n",
    "Escribir un programa que gestione las facturas pendientes de cobro de una empresa. Las\n",
    "facturas se almacenaran en un diccionario donde la llave de cada factura sera el numero de\n",
    "factura (debe utilizar un numero de 4 digitos) y el valor el coste de la factura. El programa\n",
    "debe preguntar al usuario si quiere añadir una nueva factura, pagar una existente o terminar.\n",
    "Si desea añadir una nueva factura se preguntara por el numero de factura y su coste y se\n",
    "añadira al diccionario, para confirmar que la factura se ingreso correctamente el programa\n",
    "debe desplegar el diccionario completo. Si se desea pagar una factura se preguntara por el\n",
    "nu´mero de factura y se eliminara del diccionario. Despues de cada operacion el programa\n",
    "debe mostrar en pantalla la cantidad cobrada hasta el momento y la cantidad pendiente de\n",
    "cobro. Puede utilizar otras estructuras de datos como apoyo si lo considera necesario"
   ]
  },
  {
   "cell_type": "code",
   "execution_count": 3,
   "id": "0746c4fe",
   "metadata": {},
   "outputs": [
    {
     "name": "stdout",
     "output_type": "stream",
     "text": [
      "Factura agregada\n",
      "Facturas por cobrar: {1234: 125.68}\n",
      "Factura agregada\n",
      "Facturas por cobrar: {1234: 125.68, 2345: 125.69}\n",
      "ERROR: El numero debe contener 4 digitos\n",
      "Accion no valida\n",
      "Factura agregada\n",
      "Facturas por cobrar: {1234: 125.68, 2345: 125.69, 4569: 7885.6}\n",
      "Factura agregada\n",
      "Facturas por cobrar: {1234: 125.68, 2345: 125.69, 4569: 7885.6, 9874: 123.65}\n",
      "Factura agregada\n",
      "Facturas por cobrar: {1234: 125.68, 2345: 125.69, 4569: 7885.6, 9874: 123.65, 1238: 127.6}\n",
      "La factura 1234 por un monto de 125.68 ha sido pagada.\n",
      "Facturas por cobrar: {2345: 125.69, 4569: 7885.6, 9874: 123.65, 1238: 127.6}\n",
      "El numero de factura insertado, no es existe o no es valido\n",
      "Facturas por cobrar: {2345: 125.69, 4569: 7885.6, 9874: 123.65, 1238: 127.6}\n",
      "La factura 1238 por un monto de 127.6 ha sido pagada.\n",
      "Facturas por cobrar: {2345: 125.69, 4569: 7885.6, 9874: 123.65}\n",
      "Total cobrado: 253.28\n",
      "Pendiente por cobrar: 8134.94\n"
     ]
    }
   ],
   "source": [
    "class Sistema_facturas:\n",
    "    def __init__(self):\n",
    "        self.facturas={}\n",
    "        self.cobrado=0\n",
    "    def menu(self):\n",
    "        while True:\n",
    "            accion = input(\"Seleccione que desea realizar? (agregar/pagar/terminar)\").lower()\n",
    "            if(accion==\"agregar\"):\n",
    "                self.agregar()\n",
    "\n",
    "            elif accion==\"pagar\":\n",
    "                self.pagar()\n",
    "            \n",
    "            elif(accion==\"terminar\"):\n",
    "                print(f\"Total cobrado: {self.cobrado}\")\n",
    "                print(f\"Pendiente por cobrar: {sum(self.facturas.values())}\")\n",
    "                break\n",
    "            \n",
    "            else: \n",
    "                print(\"Accion no valida\")\n",
    "                \n",
    "\n",
    "    def agregar(self):\n",
    "        no_fact=int(input(\"Ingrese el numero de factura: \"))\n",
    "        try:\n",
    "            if len(str((no_fact))) != 4 :\n",
    "                raise ValueError(\"ERROR: El numero debe contener 4 digitos\")\n",
    "            costo=float(input(\"Ingrese el costo de la factura:\"))\n",
    "            self.facturas[no_fact]=costo\n",
    "            print(\"Factura agregada\")\n",
    "            print(\"Facturas por cobrar: {}\".format(self.facturas))\n",
    "\n",
    "        except ValueError as error:\n",
    "            print(error)\n",
    "    def pagar(self):\n",
    "        no_factura=int(input(\"Ingrese el numero de factura a pagar: \"))\n",
    "        if no_factura in self.facturas:\n",
    "            self.cobrado=self.cobrado+self.facturas[no_factura]\n",
    "            print(\"La factura {} por un monto de {} ha sido pagada.\".format(no_factura,self.facturas[no_factura]))\n",
    "            del self.facturas[no_factura]\n",
    "        else:\n",
    "            print(\"El numero de factura insertado, no es existe o no es valido\")\n",
    "\n",
    "        print(\"Facturas por cobrar: {}\".format(self.facturas))\n",
    "        \n",
    "sistema=Sistema_facturas()\n",
    "\n",
    "sistema.menu()"
   ]
  },
  {
   "attachments": {},
   "cell_type": "markdown",
   "id": "6fb0b9f9",
   "metadata": {},
   "source": [
    "### Problema 8\n",
    "\n",
    "Haga una funcion en Python, que cree un set con todas las cartas de una baraja de Pocker utilizando el siguiente formato: Tipo-Numero. Utilice las letras T para treboles, C para corazones, P para picas y E para espadas. Para los numeros utilice la numeracion del 1 al 13. \n",
    "- Por ejemplo E13 - serıa Rey de Espadas, P01 serıa As de Picas, T05 serıa cinco de Treboles.\n",
    "\n",
    "- Posteriormente cree una funcion que dado el conjunto anterior cree dos sets nuevos de cartas, cada conjunto debe tener una cantidad variable de elementos, puede utilizar nu´meros aleatorios enteros para definir la longitud de los conjuntos.\n",
    "\n",
    "- Adicionalmente, debera calcular la probabilidad de la interseccion de ambos conjuntos y demuestre si son eventos independientes con la regla del producto.\n",
    "\n",
    "- Para concluir, calcule probabilidad de la uni´on de ambos conjuntos y demuestre que se cumple la regla de la adicion."
   ]
  },
  {
   "cell_type": "code",
   "execution_count": 59,
   "id": "312f3a38",
   "metadata": {},
   "outputs": [
    {
     "name": "stdout",
     "output_type": "stream",
     "text": [
      "Baraja: {'E06', 'E13', 'T03', 'C13', 'E05', 'T10', 'E09', 'E04', 'C06', 'C09', 'T07', 'C02', 'C10', 'C12', 'P03', 'C05', 'P08', 'E11', 'T05', 'E01', 'E12', 'C03', 'T02', 'C11', 'T11', 'P09', 'T08', 'T06', 'C07', 'P02', 'C08', 'P04', 'T04', 'P13', 'C01', 'P07', 'E10', 'P05', 'E07', 'P12', 'E03', 'T01', 'E08', 'C04', 'P06', 'P10', 'T09', 'P01', 'E02', 'P11', 'T13', 'T12'}\n",
      "Set 1: {'P12', 'P09', 'T08', 'E12', 'T03', 'E08', 'C13', 'C03', 'P06', 'E09', 'E04', 'C09', 'C11', 'P03', 'P13', 'P07', 'T11', 'T12'}\n",
      "Set 2: {'E06', 'E05', 'E09', 'T10', 'C06', 'C10', 'C02', 'E11', 'E12', 'E01', 'C03', 'P09', 'T08', 'P02', 'C08', 'T04', 'P13', 'P07', 'E03', 'T01', 'P06', 'P01', 'P11', 'T13'}\n",
      "Interseccion: {'P09', 'T08', 'E12', 'C03', 'P06', 'E09', 'P13', 'P07'}\n",
      "La probabilidad de inserteseccion es: 0.15\n",
      "La probabilidad de independencia es: 0.16\n",
      "No son independientes\n",
      "La probabilidad de union es: 0.6576923076923077\n"
     ]
    }
   ],
   "source": [
    "import random \n",
    "def crear_baraja():\n",
    "    tipos = [\"T\",\"C\",\"P\",\"E\"]\n",
    "    baraja=set()\n",
    "    for tipo in tipos:\n",
    "        for numero in range(1,14):\n",
    "            if numero <10:\n",
    "                baraja.add(tipo+\"0\"+str(numero))\n",
    "            else:\n",
    "                baraja.add(tipo+str(numero))\n",
    "    return baraja\n",
    "\n",
    "baraja=crear_baraja()\n",
    "\n",
    "def crear_sets(baraja):\n",
    "    size1=random.randint(1,len(baraja)-1)\n",
    "    size2=random.randint(1,len(baraja)-1)\n",
    "    set1=set(random.sample(baraja,size1))\n",
    "    set2=set(random.sample(baraja,size2))\n",
    "    return set1,set2\n",
    "\n",
    "set1,set2=crear_sets(baraja)\n",
    "\n",
    "def fun_interseccion(set1,set2):\n",
    "    return round(len(set1&set2)/len(baraja),2)\n",
    "\n",
    "insterseccion =  fun_interseccion(set1,set2)\n",
    "print(f\"Baraja: {baraja}\")\n",
    "print(f\"Set 1: {set1}\")\n",
    "print(f\"Set 2: {set2}\")\n",
    "print(f\"Interseccion: {set1&set2}\")\n",
    "print(f\"La probabilidad de inserteseccion es: {insterseccion}\")\n",
    "probA=len(set1)/len(baraja)\n",
    "probB=len(set2)/len(baraja)\n",
    "independencia=  round(probA*probB,2)\n",
    "print(f\"La probabilidad de independencia es: {independencia}\")\n",
    "if independencia==insterseccion:\n",
    "    print('Son independientes')\n",
    "else:\n",
    "    print('No son independientes')\n",
    "\n",
    "union=probA+probB -insterseccion\n",
    "print('La probabilidad de union es: {}'.format(union))\n",
    "\n",
    "\n",
    "\n",
    "\n"
   ]
  }
 ],
 "metadata": {
  "kernelspec": {
   "display_name": "Python 3.7.16 ('maestria')",
   "language": "python",
   "name": "python3"
  },
  "language_info": {
   "codemirror_mode": {
    "name": "ipython",
    "version": 3
   },
   "file_extension": ".py",
   "mimetype": "text/x-python",
   "name": "python",
   "nbconvert_exporter": "python",
   "pygments_lexer": "ipython3",
   "version": "3.7.16"
  },
  "vscode": {
   "interpreter": {
    "hash": "54b1db0f893087a9563ec24e3fb8b4da37bd68d0eebacc723b0e0fb6081b66ca"
   }
  }
 },
 "nbformat": 4,
 "nbformat_minor": 5
}
