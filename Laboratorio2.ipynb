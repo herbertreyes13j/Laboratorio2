{
 "cells": [
  {
   "cell_type": "markdown",
   "id": "ce7cdcd5",
   "metadata": {},
   "source": [
    "#### Herbert Rafael Reyes Portillo\n",
    "#### Carnet: 23002116\n",
    "\n",
    "# Laboratorio 2\n",
    "\n"
   ]
  },
  {
   "cell_type": "markdown",
   "id": "7eb40628",
   "metadata": {},
   "source": [
    "## Parte 1\n",
    "\n",
    "### Problema 1\n",
    "\n",
    "Haga un programa en Python que reciba de par´ametro un nu´mero de segundos y que despliegue en pantalla, las horas, minutos y segundos que representan. Por ejemplo:\n",
    "- Si el nu´mero de segundos recibidos fuera: 2743 entonces su programa deber´ıa desplegar: Horas: 0, Minutos: 45 , Segundos: 43\n",
    "- Si el numero de segundos recibidos fuera 5871: Horas: 1, Minutos: 37 , Segundos: 51\n",
    "\n",
    "Recuerde manejar excepciones y errores que considere necesarios.\n",
    "\n"
   ]
  },
  {
   "cell_type": "code",
   "execution_count": 1,
   "id": "fa1b5c42",
   "metadata": {},
   "outputs": [
    {
     "name": "stdout",
     "output_type": "stream",
     "text": [
      "Horas: 248, Minutos: 35, Segundos: 49\n"
     ]
    }
   ],
   "source": [
    "def convertir_segundos(tiempo):\n",
    "    try:\n",
    "        if tiempo < 0:\n",
    "            raise ValueError(\"ERROR: El tiempo debe ser positivo\")\n",
    "        \n",
    "        horas = tiempo//3600\n",
    "        minutos = (tiempo % 3600)//60\n",
    "        segundos = tiempo % 60\n",
    "\n",
    "        print(\"Horas: {}, Minutos: {}, Segundos: {}\".format(horas,minutos,segundos))\n",
    "    except ValueError as error:\n",
    "        print(error)\n",
    "\n",
    "convertir_segundos(894949)"
   ]
  },
  {
   "cell_type": "markdown",
   "id": "456fc7ad",
   "metadata": {},
   "source": [
    "### Problema 2\n",
    "\n",
    "Haga una funcion en Python que dado un numero entre 1 y 20. Y un caracter cualquiera\n",
    "despliegue cuatro patrones triangulares.\n",
    "\n",
    "\n"
   ]
  },
  {
   "cell_type": "code",
   "execution_count": 33,
   "id": "4ebb33d8",
   "metadata": {},
   "outputs": [
    {
     "name": "stdout",
     "output_type": "stream",
     "text": [
      "k \n",
      "k k \n",
      "k k k \n",
      "k k k k \n",
      "k k k k k \n",
      "\n",
      "k k k k k \n",
      "  k k k k \n",
      "    k k k \n",
      "      k k \n",
      "        k \n",
      "\n",
      "k k k k k \n",
      "k k k k \n",
      "k k k \n",
      "k k \n",
      "k \n",
      "          k \n",
      "        k k \n",
      "      k k k \n",
      "    k k k k \n",
      "  k k k k k \n"
     ]
    }
   ],
   "source": [
    "def imprimir_patrones(num, caracter):\n",
    "    try:\n",
    "        if num < 1 or num > 20:\n",
    "            raise ValueError(\"ERROR: El valor debe estar entre 1 y 20\")\n",
    "        \n",
    "        for i in range(num):\n",
    "            print((caracter+' ') * (i + 1))\n",
    "\n",
    "        print()\n",
    "        j=0\n",
    "        for i in range(num, 0, -1):\n",
    "            print(('  ')*(j) + (caracter+' ') * (i))\n",
    "            j=j+1\n",
    "        \n",
    "        print()\n",
    "\n",
    "        for i in range(num, 0, -1):\n",
    "            print((caracter+' ') * (i))\n",
    "\n",
    "        j=num\n",
    "        for i in range(num):\n",
    "            print(('  ')*(j) + (caracter+' ') *(i + 1))\n",
    "            j=j-1\n",
    "\n",
    "        \n",
    "\n",
    "\n",
    "\n",
    "    except ValueError as error:\n",
    "        print(error)\n",
    "\n",
    "        \n",
    "imprimir_patrones(5,\"k\")"
   ]
  },
  {
   "cell_type": "markdown",
   "id": "69eaf441",
   "metadata": {},
   "source": [
    "### Problema 3\n",
    "\n",
    "Haga un programa en Python que la fecha de nacimiento de una persona (puede ingresar por\n",
    "separado cada valor, es decir pedir primero d´ıa, luego mes y luego año), despliegue la edad\n",
    "de la persona en años, meses y dias. Su resultado puede ser aproximado."
   ]
  },
  {
   "cell_type": "code",
   "execution_count": 6,
   "id": "1dab3961",
   "metadata": {},
   "outputs": [
    {
     "name": "stdout",
     "output_type": "stream",
     "text": [
      "Años: 25, Meses: 3, Dias: 1\n"
     ]
    }
   ],
   "source": [
    "from datetime import date\n",
    "from dateutil.relativedelta import relativedelta\n",
    "dia = int(input(\"Ingresa el dia de nacimiento (dd)\"))\n",
    "mes = int(input(\"Ingresa el mes de nacimiento (mm)\"))\n",
    "año = int(input(\"Ingresa el año de nacimiento (yyyy)\"))\n",
    "\n",
    "hoy = date.today()\n",
    "fecha_nac= date(año,mes,dia)\n",
    "\n",
    "diferencia = relativedelta(hoy,fecha_nac)\n",
    "\n",
    "print(\"Años: {}, Meses: {}, Dias: {}\".format(diferencia.years,diferencia.months,diferencia.days))\n"
   ]
  },
  {
   "cell_type": "markdown",
   "id": "4447dd26",
   "metadata": {},
   "source": [
    "### Problema 4\n",
    "\n",
    "Escriba una funcion en Python que dada una tupla de elementos (numeros o letras) esta se\n",
    "convierta a un string. Tomar nota del siguiente ejemplo:\n",
    "- Si la entrada fuera: (10, 20, 40, 5, 70)\n",
    "- La salida deberia ser: 102040570"
   ]
  },
  {
   "cell_type": "code",
   "execution_count": 8,
   "id": "4fcca082",
   "metadata": {},
   "outputs": [
    {
     "data": {
      "text/plain": [
       "'102040570'"
      ]
     },
     "execution_count": 8,
     "metadata": {},
     "output_type": "execute_result"
    }
   ],
   "source": [
    "def tupla_to_string(tupla):\n",
    "    texto = \"\".join(str(elemento) for elemento in tupla)\n",
    "    return texto\n",
    "\n",
    "tupla= (10,20,40,5,70)\n",
    "\n",
    "tupla_to_string(tupla)"
   ]
  }
 ],
 "metadata": {
  "kernelspec": {
   "display_name": "Python 3.7.16 ('maestria')",
   "language": "python",
   "name": "python3"
  },
  "language_info": {
   "codemirror_mode": {
    "name": "ipython",
    "version": 3
   },
   "file_extension": ".py",
   "mimetype": "text/x-python",
   "name": "python",
   "nbconvert_exporter": "python",
   "pygments_lexer": "ipython3",
   "version": "3.7.16"
  },
  "vscode": {
   "interpreter": {
    "hash": "54b1db0f893087a9563ec24e3fb8b4da37bd68d0eebacc723b0e0fb6081b66ca"
   }
  }
 },
 "nbformat": 4,
 "nbformat_minor": 5
}
