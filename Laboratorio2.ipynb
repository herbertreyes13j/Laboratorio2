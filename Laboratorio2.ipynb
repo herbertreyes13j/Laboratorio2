{
 "cells": [
  {
   "cell_type": "markdown",
   "id": "ce7cdcd5",
   "metadata": {},
   "source": [
    "#### Herbert Rafael Reyes Portillo\n",
    "#### Carnet: 23002116\n",
    "\n",
    "# Laboratorio 2\n",
    "\n"
   ]
  },
  {
   "cell_type": "markdown",
   "id": "7eb40628",
   "metadata": {},
   "source": [
    "## Parte 1\n",
    "\n",
    "### Problema 1\n",
    "\n",
    "Haga un programa en Python que reciba de par´ametro un nu´mero de segundos y que despliegue en pantalla, las horas, minutos y segundos que representan. Por ejemplo:\n",
    "- Si el nu´mero de segundos recibidos fuera: 2743 entonces su programa deber´ıa desplegar: Horas: 0, Minutos: 45 , Segundos: 43\n",
    "- Si el numero de segundos recibidos fuera 5871: Horas: 1, Minutos: 37 , Segundos: 51\n",
    "\n",
    "Recuerde manejar excepciones y errores que considere necesarios.\n",
    "\n"
   ]
  },
  {
   "cell_type": "code",
   "execution_count": 1,
   "id": "fa1b5c42",
   "metadata": {},
   "outputs": [
    {
     "name": "stdout",
     "output_type": "stream",
     "text": [
      "Horas: 248, Minutos: 35, Segundos: 49\n"
     ]
    }
   ],
   "source": [
    "def convertir_segundos(tiempo):\n",
    "    try:\n",
    "        if tiempo < 0:\n",
    "            raise ValueError(\"ERROR: El tiempo debe ser positivo\")\n",
    "        \n",
    "        horas = tiempo//3600\n",
    "        minutos = (tiempo % 3600)//60\n",
    "        segundos = tiempo % 60\n",
    "\n",
    "        print(\"Horas: {}, Minutos: {}, Segundos: {}\".format(horas,minutos,segundos))\n",
    "    except ValueError as error:\n",
    "        print(error)\n",
    "\n",
    "convertir_segundos(894949)"
   ]
  }
 ],
 "metadata": {
  "kernelspec": {
   "display_name": "Python 3.7.16 ('maestria')",
   "language": "python",
   "name": "python3"
  },
  "language_info": {
   "codemirror_mode": {
    "name": "ipython",
    "version": 3
   },
   "file_extension": ".py",
   "mimetype": "text/x-python",
   "name": "python",
   "nbconvert_exporter": "python",
   "pygments_lexer": "ipython3",
   "version": "3.7.16"
  },
  "vscode": {
   "interpreter": {
    "hash": "54b1db0f893087a9563ec24e3fb8b4da37bd68d0eebacc723b0e0fb6081b66ca"
   }
  }
 },
 "nbformat": 4,
 "nbformat_minor": 5
}
